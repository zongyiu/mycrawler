{
 "cells": [
  {
   "cell_type": "code",
   "execution_count": 40,
   "id": "54d1cd77",
   "metadata": {},
   "outputs": [],
   "source": [
    "import os\n",
    "import sys\n",
    "import time\n",
    "import argparse\n",
    "import pandas as pd\n",
    "import numpy as np\n",
    "import requests\n",
    "from urllib.parse import quote\n",
    "from urllib.parse import unquote\n",
    "from selenium.webdriver.common.keys import Keys \n",
    "from selenium import webdriver\n",
    "from selenium.webdriver.common.by import By\n",
    "from selenium.webdriver.support.ui import Select\n",
    "from selenium.webdriver.support.ui import WebDriverWait\n",
    "from selenium.common.exceptions import NoSuchElementException\n",
    "from selenium.webdriver.common.action_chains import ActionChains"
   ]
  },
  {
   "cell_type": "code",
   "execution_count": 41,
   "id": "b306da96",
   "metadata": {},
   "outputs": [],
   "source": [
    "options = webdriver.ChromeOptions()\n",
    "#options.add_argument('headless')\n",
    "driver = webdriver.Chrome(options=options)"
   ]
  },
  {
   "cell_type": "code",
   "execution_count": 43,
   "id": "914acd1f",
   "metadata": {},
   "outputs": [],
   "source": [
    "# Login Hami\n",
    "_url = 'https://ebook.hyread.com.tw/'\n",
    "driver.get(_url)\n",
    "driver.maximize_window()\n",
    "# Input account/password"
   ]
  },
  {
   "cell_type": "code",
   "execution_count": 45,
   "id": "778b0910",
   "metadata": {},
   "outputs": [],
   "source": [
    "#url = 'https://webreader.hamibook.com.tw/viewer/06/%e5%85%88%e6%8e%a2%e6%8a%95%e8%b3%87%e9%80%b1%e5%88%8a%202281%e6%9c%9f#/index?book_id=0100365765&format=06'\n",
    "url = 'https://ebook.hyread.com.tw/Template/store/member/onlineReading.jsp?eid=363080&asstuuid=8a8a84ca8cf2e188018cf719ccf17305'\n",
    "driver.get(url)"
   ]
  },
  {
   "cell_type": "code",
   "execution_count": 52,
   "id": "9e492e58",
   "metadata": {},
   "outputs": [
    {
     "ename": "NoSuchWindowException",
     "evalue": "Message: no such window: target window already closed\nfrom unknown error: web view not found\n  (Session info: chrome=120.0.6099.217)\nStacktrace:\n\tGetHandleVerifier [0x00007FF7F57A2142+3514994]\n\t(No symbol) [0x00007FF7F53C0CE2]\n\t(No symbol) [0x00007FF7F52676AA]\n\t(No symbol) [0x00007FF7F5240AFD]\n\t(No symbol) [0x00007FF7F52DCB1B]\n\t(No symbol) [0x00007FF7F52F218F]\n\t(No symbol) [0x00007FF7F52D5D93]\n\t(No symbol) [0x00007FF7F52A4BDC]\n\t(No symbol) [0x00007FF7F52A5C64]\n\tGetHandleVerifier [0x00007FF7F57CE16B+3695259]\n\tGetHandleVerifier [0x00007FF7F5826737+4057191]\n\tGetHandleVerifier [0x00007FF7F581E4E3+4023827]\n\tGetHandleVerifier [0x00007FF7F54F04F9+689705]\n\t(No symbol) [0x00007FF7F53CC048]\n\t(No symbol) [0x00007FF7F53C8044]\n\t(No symbol) [0x00007FF7F53C81C9]\n\t(No symbol) [0x00007FF7F53B88C4]\n\tBaseThreadInitThunk [0x00007FFB88E2257D+29]\n\tRtlUserThreadStart [0x00007FFB89BEAA58+40]\n",
     "output_type": "error",
     "traceback": [
      "\u001b[1;31m---------------------------------------------------------------------------\u001b[0m",
      "\u001b[1;31mNoSuchWindowException\u001b[0m                     Traceback (most recent call last)",
      "Cell \u001b[1;32mIn[52], line 4\u001b[0m\n\u001b[0;32m      1\u001b[0m actions \u001b[38;5;241m=\u001b[39m ActionChains(driver)\n\u001b[0;32m      3\u001b[0m \u001b[38;5;66;03m# 模擬按下左鍵\u001b[39;00m\n\u001b[1;32m----> 4\u001b[0m \u001b[43mactions\u001b[49m\u001b[38;5;241;43m.\u001b[39;49m\u001b[43msend_keys\u001b[49m\u001b[43m(\u001b[49m\u001b[43mKeys\u001b[49m\u001b[38;5;241;43m.\u001b[39;49m\u001b[43mLEFT\u001b[49m\u001b[43m)\u001b[49m\u001b[38;5;241;43m.\u001b[39;49m\u001b[43mperform\u001b[49m\u001b[43m(\u001b[49m\u001b[43m)\u001b[49m\n",
      "File \u001b[1;32m~\\anaconda3\\envs\\crawler\\lib\\site-packages\\selenium\\webdriver\\common\\action_chains.py:87\u001b[0m, in \u001b[0;36mActionChains.perform\u001b[1;34m(self)\u001b[0m\n\u001b[0;32m     85\u001b[0m \u001b[38;5;28;01mdef\u001b[39;00m \u001b[38;5;21mperform\u001b[39m(\u001b[38;5;28mself\u001b[39m):\n\u001b[0;32m     86\u001b[0m \u001b[38;5;250m    \u001b[39m\u001b[38;5;124;03m\"\"\"Performs all stored actions.\"\"\"\u001b[39;00m\n\u001b[1;32m---> 87\u001b[0m     \u001b[38;5;28;43mself\u001b[39;49m\u001b[38;5;241;43m.\u001b[39;49m\u001b[43mw3c_actions\u001b[49m\u001b[38;5;241;43m.\u001b[39;49m\u001b[43mperform\u001b[49m\u001b[43m(\u001b[49m\u001b[43m)\u001b[49m\n",
      "File \u001b[1;32m~\\anaconda3\\envs\\crawler\\lib\\site-packages\\selenium\\webdriver\\common\\actions\\action_builder.py:91\u001b[0m, in \u001b[0;36mActionBuilder.perform\u001b[1;34m(self)\u001b[0m\n\u001b[0;32m     89\u001b[0m         enc[\u001b[38;5;124m\"\u001b[39m\u001b[38;5;124mactions\u001b[39m\u001b[38;5;124m\"\u001b[39m]\u001b[38;5;241m.\u001b[39mappend(encoded)\n\u001b[0;32m     90\u001b[0m         device\u001b[38;5;241m.\u001b[39mactions \u001b[38;5;241m=\u001b[39m []\n\u001b[1;32m---> 91\u001b[0m \u001b[38;5;28;43mself\u001b[39;49m\u001b[38;5;241;43m.\u001b[39;49m\u001b[43mdriver\u001b[49m\u001b[38;5;241;43m.\u001b[39;49m\u001b[43mexecute\u001b[49m\u001b[43m(\u001b[49m\u001b[43mCommand\u001b[49m\u001b[38;5;241;43m.\u001b[39;49m\u001b[43mW3C_ACTIONS\u001b[49m\u001b[43m,\u001b[49m\u001b[43m \u001b[49m\u001b[43menc\u001b[49m\u001b[43m)\u001b[49m\n",
      "File \u001b[1;32m~\\anaconda3\\envs\\crawler\\lib\\site-packages\\selenium\\webdriver\\remote\\webdriver.py:346\u001b[0m, in \u001b[0;36mWebDriver.execute\u001b[1;34m(self, driver_command, params)\u001b[0m\n\u001b[0;32m    344\u001b[0m response \u001b[38;5;241m=\u001b[39m \u001b[38;5;28mself\u001b[39m\u001b[38;5;241m.\u001b[39mcommand_executor\u001b[38;5;241m.\u001b[39mexecute(driver_command, params)\n\u001b[0;32m    345\u001b[0m \u001b[38;5;28;01mif\u001b[39;00m response:\n\u001b[1;32m--> 346\u001b[0m     \u001b[38;5;28;43mself\u001b[39;49m\u001b[38;5;241;43m.\u001b[39;49m\u001b[43merror_handler\u001b[49m\u001b[38;5;241;43m.\u001b[39;49m\u001b[43mcheck_response\u001b[49m\u001b[43m(\u001b[49m\u001b[43mresponse\u001b[49m\u001b[43m)\u001b[49m\n\u001b[0;32m    347\u001b[0m     response[\u001b[38;5;124m\"\u001b[39m\u001b[38;5;124mvalue\u001b[39m\u001b[38;5;124m\"\u001b[39m] \u001b[38;5;241m=\u001b[39m \u001b[38;5;28mself\u001b[39m\u001b[38;5;241m.\u001b[39m_unwrap_value(response\u001b[38;5;241m.\u001b[39mget(\u001b[38;5;124m\"\u001b[39m\u001b[38;5;124mvalue\u001b[39m\u001b[38;5;124m\"\u001b[39m, \u001b[38;5;28;01mNone\u001b[39;00m))\n\u001b[0;32m    348\u001b[0m     \u001b[38;5;28;01mreturn\u001b[39;00m response\n",
      "File \u001b[1;32m~\\anaconda3\\envs\\crawler\\lib\\site-packages\\selenium\\webdriver\\remote\\errorhandler.py:245\u001b[0m, in \u001b[0;36mErrorHandler.check_response\u001b[1;34m(self, response)\u001b[0m\n\u001b[0;32m    243\u001b[0m         alert_text \u001b[38;5;241m=\u001b[39m value[\u001b[38;5;124m\"\u001b[39m\u001b[38;5;124malert\u001b[39m\u001b[38;5;124m\"\u001b[39m]\u001b[38;5;241m.\u001b[39mget(\u001b[38;5;124m\"\u001b[39m\u001b[38;5;124mtext\u001b[39m\u001b[38;5;124m\"\u001b[39m)\n\u001b[0;32m    244\u001b[0m     \u001b[38;5;28;01mraise\u001b[39;00m exception_class(message, screen, stacktrace, alert_text)  \u001b[38;5;66;03m# type: ignore[call-arg]  # mypy is not smart enough here\u001b[39;00m\n\u001b[1;32m--> 245\u001b[0m \u001b[38;5;28;01mraise\u001b[39;00m exception_class(message, screen, stacktrace)\n",
      "\u001b[1;31mNoSuchWindowException\u001b[0m: Message: no such window: target window already closed\nfrom unknown error: web view not found\n  (Session info: chrome=120.0.6099.217)\nStacktrace:\n\tGetHandleVerifier [0x00007FF7F57A2142+3514994]\n\t(No symbol) [0x00007FF7F53C0CE2]\n\t(No symbol) [0x00007FF7F52676AA]\n\t(No symbol) [0x00007FF7F5240AFD]\n\t(No symbol) [0x00007FF7F52DCB1B]\n\t(No symbol) [0x00007FF7F52F218F]\n\t(No symbol) [0x00007FF7F52D5D93]\n\t(No symbol) [0x00007FF7F52A4BDC]\n\t(No symbol) [0x00007FF7F52A5C64]\n\tGetHandleVerifier [0x00007FF7F57CE16B+3695259]\n\tGetHandleVerifier [0x00007FF7F5826737+4057191]\n\tGetHandleVerifier [0x00007FF7F581E4E3+4023827]\n\tGetHandleVerifier [0x00007FF7F54F04F9+689705]\n\t(No symbol) [0x00007FF7F53CC048]\n\t(No symbol) [0x00007FF7F53C8044]\n\t(No symbol) [0x00007FF7F53C81C9]\n\t(No symbol) [0x00007FF7F53B88C4]\n\tBaseThreadInitThunk [0x00007FFB88E2257D+29]\n\tRtlUserThreadStart [0x00007FFB89BEAA58+40]\n"
     ]
    }
   ],
   "source": [
    "actions = ActionChains(driver)\n",
    "\n",
    "# 模擬按下左鍵\n",
    "actions.send_keys(Keys.LEFT).perform()"
   ]
  },
  {
   "cell_type": "code",
   "execution_count": 50,
   "id": "ff12fcd5",
   "metadata": {},
   "outputs": [],
   "source": [
    "img = driver.find_element(By.XPATH, \"/html/body/div[1]/div/div[2]/div[4]/div[2]/div/div/div/div/img[2]\")"
   ]
  },
  {
   "cell_type": "code",
   "execution_count": 51,
   "id": "5c93df13",
   "metadata": {},
   "outputs": [
    {
     "data": {
      "text/plain": [
       "True"
      ]
     },
     "execution_count": 51,
     "metadata": {},
     "output_type": "execute_result"
    }
   ],
   "source": [
    "img.screenshot('./test3.png')"
   ]
  },
  {
   "cell_type": "code",
   "execution_count": 39,
   "id": "4510bff6",
   "metadata": {},
   "outputs": [
    {
     "data": {
      "text/plain": [
       "True"
      ]
     },
     "execution_count": 39,
     "metadata": {},
     "output_type": "execute_result"
    }
   ],
   "source": [
    "canvas.screenshot('./main3.png')"
   ]
  },
  {
   "cell_type": "code",
   "execution_count": null,
   "id": "f45896a7",
   "metadata": {},
   "outputs": [],
   "source": []
  },
  {
   "cell_type": "code",
   "execution_count": null,
   "id": "301a1f85",
   "metadata": {},
   "outputs": [],
   "source": []
  },
  {
   "cell_type": "code",
   "execution_count": 107,
   "id": "a9e6b2fe",
   "metadata": {},
   "outputs": [],
   "source": [
    "# url = 'https://read.readmoo.com/#/unlimiteds/15/favor_items'\n",
    "url = \"https://new-read.readmoo.com/mooreader/220302094000101?event=15\"\n",
    "driver.get(url)"
   ]
  },
  {
   "cell_type": "code",
   "execution_count": 108,
   "id": "12b96401",
   "metadata": {},
   "outputs": [],
   "source": [
    "_iframe = driver.find_element(By.TAG_NAME, 'iframe')\n",
    "driver.switch_to.frame(_iframe)\n",
    "pages = driver.find_element(By.XPATH, \"/html/body/div[2]/div/nav/div[2]/div/div/div[3]/div[2]/span[2]\")\n",
    "page = int(pages.get_attribute(\"innerHTML\").split('/')[1].split(' ')[2])\n",
    "next_frame = driver.find_element(By.XPATH, \"/html/body/div[1]/div/div/div/div/div/div/iframe\")\n",
    "url = next_frame.get_attribute(\"data-src\")"
   ]
  },
  {
   "cell_type": "code",
   "execution_count": 109,
   "id": "fd203631",
   "metadata": {},
   "outputs": [],
   "source": [
    "driver.get(url)"
   ]
  },
  {
   "cell_type": "code",
   "execution_count": 110,
   "id": "bdb62812",
   "metadata": {},
   "outputs": [],
   "source": [
    "url_head = url.split('1.xhtml')[0]"
   ]
  },
  {
   "cell_type": "code",
   "execution_count": 111,
   "id": "85e34d5a",
   "metadata": {},
   "outputs": [],
   "source": [
    "for i in range(2,page+1):\n",
    "    r = str(i)\n",
    "    _url = url_head + r + '.xhtml'\n",
    "    #print(_url)\n",
    "    js = \"window.open('\" + _url + \"')\"\n",
    "    driver.execute_script(js)"
   ]
  },
  {
   "cell_type": "code",
   "execution_count": 77,
   "id": "a4a35469",
   "metadata": {},
   "outputs": [
    {
     "data": {
      "text/plain": [
       "True"
      ]
     },
     "execution_count": 77,
     "metadata": {},
     "output_type": "execute_result"
    }
   ],
   "source": [
    "#driver.save_screenshot('./test2.png')"
   ]
  },
  {
   "cell_type": "code",
   "execution_count": 112,
   "id": "f94e2523",
   "metadata": {},
   "outputs": [],
   "source": [
    "date = '20231119'\n",
    "directory = \"./files\"\n",
    "new_folder = './經濟日報' + date\n",
    "os.rename(directory, new_folder)\n",
    "os.mkdir(directory)\n",
    "files = os.listdir(new_folder)\n",
    "for i, filename in enumerate(files):\n",
    "    \n",
    "    new_filename = f\"經濟日報{date}_{i + 1}.png\"  \n",
    "\n",
    "    old_file = os.path.join(new_folder, filename)\n",
    "    new_file = os.path.join(new_folder, new_filename)\n",
    "    \n",
    "    os.rename(old_file, new_file)"
   ]
  },
  {
   "cell_type": "code",
   "execution_count": 79,
   "id": "1980531a",
   "metadata": {},
   "outputs": [],
   "source": []
  },
  {
   "cell_type": "code",
   "execution_count": 80,
   "id": "1442847c",
   "metadata": {},
   "outputs": [],
   "source": []
  },
  {
   "cell_type": "code",
   "execution_count": 81,
   "id": "29c2b47d",
   "metadata": {},
   "outputs": [],
   "source": []
  },
  {
   "cell_type": "code",
   "execution_count": null,
   "id": "0dca4947",
   "metadata": {},
   "outputs": [],
   "source": []
  },
  {
   "cell_type": "code",
   "execution_count": null,
   "id": "6454ac25",
   "metadata": {},
   "outputs": [],
   "source": []
  }
 ],
 "metadata": {
  "kernelspec": {
   "display_name": "Python 3 (ipykernel)",
   "language": "python",
   "name": "python3"
  },
  "language_info": {
   "codemirror_mode": {
    "name": "ipython",
    "version": 3
   },
   "file_extension": ".py",
   "mimetype": "text/x-python",
   "name": "python",
   "nbconvert_exporter": "python",
   "pygments_lexer": "ipython3",
   "version": "3.8.17"
  }
 },
 "nbformat": 4,
 "nbformat_minor": 5
}
