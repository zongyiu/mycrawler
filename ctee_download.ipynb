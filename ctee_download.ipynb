{
 "cells": [
  {
   "cell_type": "code",
   "execution_count": 59,
   "id": "a390dd90",
   "metadata": {},
   "outputs": [],
   "source": [
    "import time \n",
    "import os\n",
    "import sys\n",
    "import time\n",
    "import argparse\n",
    "import pandas as pd\n",
    "import numpy as np\n",
    "import requests\n",
    "from urllib.parse import quote\n",
    "from urllib.parse import unquote\n",
    "from selenium.webdriver.common.keys import Keys \n",
    "from selenium import webdriver\n",
    "from selenium.webdriver.common.by import By\n",
    "from selenium.webdriver.support.ui import Select\n",
    "from selenium.webdriver.support.ui import WebDriverWait\n",
    "from selenium.common.exceptions import NoSuchElementException\n",
    "from selenium.webdriver.common.action_chains import ActionChains"
   ]
  },
  {
   "cell_type": "code",
   "execution_count": 60,
   "id": "755f4a4a",
   "metadata": {},
   "outputs": [],
   "source": [
    "def get_url_id(driver, url):\n",
    "    driver.get(url)\n",
    "    time.sleep(2)\n",
    "    # Switch to Next iFrame\n",
    "    _iframe = driver.find_element(By.TAG_NAME,\"iframe\")\n",
    "    driver.switch_to.frame(_iframe)\n",
    "    time.sleep(3)\n",
    "\n",
    "    page_id = driver.find_element(By.XPATH, \"/html/body/div/div[3]/div/div[2]\").text.split('/ ')[1]\n",
    "    page_id = int(page_id)\n",
    "\n",
    "    src = driver.find_element(By.XPATH, \"/html/body/div/div[4]/div/div[2]/img\")\n",
    "    baseUrl = src.get_attribute('baseURI')\n",
    "    middle = \"/\"+ baseUrl.split('/')[-2] + '.pdf_2.jpg'\n",
    "    baseUrl = baseUrl.replace(\"index\",\"docs\")\n",
    "    _url = baseUrl.replace(\".html\",middle)\n",
    "    \n",
    "    return _url, page_id"
   ]
  },
  {
   "cell_type": "code",
   "execution_count": 61,
   "id": "16f996e7",
   "metadata": {},
   "outputs": [],
   "source": [
    "def download_cm(path, date, url, size):\n",
    "    for i in range(size-1):\n",
    "        nurl = f'{url}{i+2}.jpg'\n",
    "        response = requests.get(nurl)\n",
    "        if response.status_code == 200:\n",
    "            filename = path + f'/工商時報{date}_{i+1}.jpg'\n",
    "            with open(filename, 'wb') as file:\n",
    "                file.write(response.content)\n",
    "        else:\n",
    "            print(\"Failed to download image\")\n",
    "def download_cmA(path, date, url, size):\n",
    "    for i in range(size-1):\n",
    "        nurl = f'{url}{i+2}.jpg'\n",
    "        response = requests.get(nurl)\n",
    "        if response.status_code == 200:\n",
    "            filename = path + f'/工商時報{date}_A{i+1}.jpg'\n",
    "            with open(filename, 'wb') as file:\n",
    "                file.write(response.content)\n",
    "        else:\n",
    "            print(\"Failed to download image\")"
   ]
  },
  {
   "cell_type": "code",
   "execution_count": 62,
   "id": "e1893d75",
   "metadata": {},
   "outputs": [],
   "source": [
    "def download_files(driver, url): \n",
    "    _url, url_id = get_url_id(driver, url)\n",
    "    date = _url.split('/')[-1].split('_')[0]\n",
    "    url = _url.split('pdf_')[0] + 'pdf_'\n",
    "    path = f'./工商時報{date}'\n",
    "    if not os.path.exists(path):\n",
    "        os.mkdir(path)\n",
    "\n",
    "    type = _url.split('_')[-2].split('.')[0]\n",
    "    if type == \"CM\":\n",
    "        download_cm(path, date, url, url_id )\n",
    "    elif type == 'MO' or type == 'ML'or type == 'MN':\n",
    "        download_cmA(path, date, url, url_id )"
   ]
  },
  {
   "cell_type": "code",
   "execution_count": 63,
   "id": "a845eea3",
   "metadata": {},
   "outputs": [],
   "source": [
    "def get_all_link(driver):\n",
    "    output = []\n",
    "    url = \"https://readers.ctee.com.tw/paper\"\n",
    "    driver.get(url)\n",
    "    btn = driver.find_element(By.XPATH, '/html/body/div[1]/main/div/div/div[1]/div/div/div/div[3]/a')\n",
    "    btn.click()\n",
    "    links = driver.find_elements(By.CLASS_NAME, 'paperlink')\n",
    "    for a in links:\n",
    "        elem = a.find_element(By.TAG_NAME, 'a')\n",
    "        _link = elem.get_attribute('href')\n",
    "        print(_link)\n",
    "        output.append(_link)\n",
    "    \n",
    "    return output"
   ]
  },
  {
   "cell_type": "code",
   "execution_count": 64,
   "id": "a1555ecb",
   "metadata": {},
   "outputs": [],
   "source": [
    "def login(driver, my_pass):\n",
    "    url = 'https://member.ctee.com.tw/Account/Login'\n",
    "    driver.get(url)\n",
    "    driver.maximize_window()\n",
    "    id = driver.find_element(By.XPATH, \"/html/body/div[1]/main/div/div/div/div[1]/div/div/div/div[1]/section/form/div[1]/div/input\")\n",
    "    _pass = driver.find_element(By.XPATH, \"/html/body/div[1]/main/div/div/div/div[1]/div/div/div/div[1]/section/form/div[2]/div/input\")\n",
    "    id.send_keys(\"travisho0014@gmail.com\")\n",
    "    _pass.send_keys(my_pass)\n",
    "    button = driver.find_element(By.XPATH,'/html/body/div[1]/main/div/div/div/div[1]/div/div/div/div[1]/section/form/div[4]/div/input')\n",
    "    button.click()"
   ]
  },
  {
   "cell_type": "code",
   "execution_count": 65,
   "id": "c9db7496",
   "metadata": {},
   "outputs": [],
   "source": [
    "options = webdriver.ChromeOptions()\n",
    "#options.add_argument('headless')\n",
    "driver = webdriver.Chrome(options=options)"
   ]
  },
  {
   "cell_type": "code",
   "execution_count": 66,
   "id": "51a4b6bd",
   "metadata": {},
   "outputs": [],
   "source": [
    "login(driver,\"Ho20080814\")"
   ]
  },
  {
   "cell_type": "code",
   "execution_count": 67,
   "id": "3ddaec98",
   "metadata": {},
   "outputs": [
    {
     "name": "stdout",
     "output_type": "stream",
     "text": [
      "https://readers.ctee.com.tw/paper?f=20240122_CM&hh=b2017d5d67ca96ba5868cbe9366ec8e4&h=1112&w=2028\n",
      "https://readers.ctee.com.tw/paper?f=20240122_MO&hh=e30832272100464747c3f73ec53797bb&h=1112&w=2028\n",
      "https://readers.ctee.com.tw/paper?f=20240121_CM&hh=ae502df08037630416e5570ed55259a8&h=1112&w=2028\n",
      "https://readers.ctee.com.tw/paper?f=20240121_MN&hh=580dd3fe1a6baa55ad0ab1715126d944&h=1112&w=2028\n",
      "https://readers.ctee.com.tw/paper?f=20240120_CM&hh=d3861e63199e22dc2f115a3583afb2ef&h=1112&w=2028\n",
      "https://readers.ctee.com.tw/paper?f=20240120_ML&hh=1609bc25716694bfa7fbf4845ad3c201&h=1112&w=2028\n",
      "https://readers.ctee.com.tw/paper?f=20240119_CM&hh=ad22205abd879e576824062af66d7d40&h=1112&w=2028\n",
      "https://readers.ctee.com.tw/paper?f=20240118_CM&hh=a17ce5ea741720e8076ba82fda2e7bac&h=1112&w=2028\n",
      "https://readers.ctee.com.tw/paper?f=20240117_CM&hh=307594f002475a1a72515d45e18acb6d&h=1112&w=2028\n",
      "https://readers.ctee.com.tw/paper?f=20240116_CM&hh=586778bc46edd852b778bcf9c6f1f0e8&h=1112&w=2028\n",
      "https://readers.ctee.com.tw/paper?f=20240115_CM&hh=260594e7704b3657aca46af1b4e30c9c&h=1112&w=2028\n",
      "https://readers.ctee.com.tw/paper?f=20240115_MO&hh=bb85b9172998387ff2c0d053b7cd7b67&h=1112&w=2028\n",
      "https://readers.ctee.com.tw/paper?f=20240114_CM&hh=97096fc2cefb1752ca83762cfe9e1436&h=1112&w=2028\n",
      "https://readers.ctee.com.tw/paper?f=20240114_MN&hh=3ecf2d23c53af4f29f4a0d19ee60b9ba&h=1112&w=2028\n",
      "https://readers.ctee.com.tw/paper?f=20240113_CM&hh=ec2435e2135cedaae3eeed6e5c61e3f7&h=1112&w=2028\n",
      "https://readers.ctee.com.tw/paper?f=20240113_ML&hh=49b9dddac200652e4c2d4568dbe53490&h=1112&w=2028\n",
      "https://readers.ctee.com.tw/paper?f=20240112_CM&hh=1dd556618bf4530bde0f56a0de012efa&h=1112&w=2028\n",
      "https://readers.ctee.com.tw/paper?f=20240111_CM&hh=8083232a338124cf917a4a4ea8b1bf77&h=1112&w=2028\n",
      "https://readers.ctee.com.tw/paper?f=20240110_CM&hh=7665a545c879a7f84eeafc9b0ab98c3e&h=1112&w=2028\n",
      "https://readers.ctee.com.tw/paper?f=20240109_CM&hh=8908209fd9c54136e2620d12a7264a35&h=1112&w=2028\n",
      "https://readers.ctee.com.tw/paper?f=20240108_CM&hh=7b01a8c55d1638dde36009ea8db473e6&h=1112&w=2028\n",
      "https://readers.ctee.com.tw/paper?f=20240108_MO&hh=8a49f33389f64a68c308530eb24c141e&h=1112&w=2028\n",
      "https://readers.ctee.com.tw/paper?f=20240107_CM&hh=8d20bf845e8d2b2412b23bb7852dfa13&h=1112&w=2028\n",
      "https://readers.ctee.com.tw/paper?f=20240107_MN&hh=7cf3c979e54b4ed38478484eae427c73&h=1112&w=2028\n",
      "https://readers.ctee.com.tw/paper?f=20240106_CM&hh=718f1733e0cbda1519f35a3936646376&h=1112&w=2028\n",
      "https://readers.ctee.com.tw/paper?f=20240106_ML&hh=1ea8585f483af9d96cdfb4b32d5d6461&h=1112&w=2028\n",
      "https://readers.ctee.com.tw/paper?f=20240105_CM&hh=a442d6e34cab9b695503804bdc4b3f61&h=1112&w=2028\n",
      "https://readers.ctee.com.tw/paper?f=20240104_CM&hh=982a2ce3f9a76fa63121f90949a1ca26&h=1112&w=2028\n",
      "https://readers.ctee.com.tw/paper?f=20240103_CM&hh=911d21dd39c47b9fbaa7e3fa2c06f110&h=1112&w=2028\n",
      "https://readers.ctee.com.tw/paper?f=20240102_CM&hh=5ba4091ecfc1e968a34a81c8d35f0fd6&h=1112&w=2028\n",
      "https://readers.ctee.com.tw/paper?f=20240101_CM&hh=2f15c570d17d72e9f7b4bac1afd65276&h=1112&w=2028\n",
      "https://readers.ctee.com.tw/paper?f=20240101_MO&hh=78d2681f93b7ccd1e67f96c63d0b5dae&h=1112&w=2028\n",
      "https://readers.ctee.com.tw/paper?f=20231231_CM&hh=7595661f50056a910a6ede968bcc2fdd&h=1112&w=2028\n",
      "https://readers.ctee.com.tw/paper?f=20231231_MN&hh=2ebaccd0e9c058637344e83991ef592d&h=1112&w=2028\n",
      "https://readers.ctee.com.tw/paper?f=20231230_CM&hh=96a7037201269be20adca9416214de19&h=1112&w=2028\n",
      "https://readers.ctee.com.tw/paper?f=20231230_ML&hh=dd2a29cd1c24b2dac8de8e8e35585ee7&h=1112&w=2028\n",
      "https://readers.ctee.com.tw/paper?f=20231229_CM&hh=423e99f8b4e3060120579625408e4c35&h=1112&w=2028\n",
      "https://readers.ctee.com.tw/paper?f=20231228_CM&hh=8700dfaa3ea37ff5cba548cfda2107c8&h=1112&w=2028\n",
      "https://readers.ctee.com.tw/paper?f=20231227_CM&hh=6dc6ad3f794abb44c98b81fdb7dbf557&h=1112&w=2028\n",
      "https://readers.ctee.com.tw/paper?f=20231226_CM&hh=87b2674ef5856f3c01e01ecf19009512&h=1112&w=2028\n",
      "https://readers.ctee.com.tw/paper?f=20231225_CM&hh=ecc9589666df0134e547e1188bf65ab7&h=1112&w=2028\n",
      "https://readers.ctee.com.tw/paper?f=20231225_MO&hh=5a5029e92e42fbbefe63f7895b75018b&h=1112&w=2028\n",
      "https://readers.ctee.com.tw/paper?f=20231224_CM&hh=4fb2faff8f8cd0c7a163f8a3a8c069d8&h=1112&w=2028\n",
      "https://readers.ctee.com.tw/paper?f=20231224_MN&hh=592d7410116f9359a2e50ebea9b0a1c1&h=1112&w=2028\n",
      "https://readers.ctee.com.tw/paper?f=20231223_CM&hh=3925352435e8ff52d7cf00cb8ca53081&h=1112&w=2028\n",
      "https://readers.ctee.com.tw/paper?f=20231223_ML&hh=0646ebf8fa86b8537b8adcbe9b4015f9&h=1112&w=2028\n"
     ]
    }
   ],
   "source": [
    "res = get_all_link(driver)"
   ]
  },
  {
   "cell_type": "code",
   "execution_count": 68,
   "id": "de2b0458",
   "metadata": {},
   "outputs": [],
   "source": [
    "file_path = './cteeList.txt'\n",
    "\n",
    "for r in res:\n",
    "    r = r + \"\\n\"\n",
    "    with open(file_path, 'a') as file:\n",
    "        file.write(r)"
   ]
  },
  {
   "cell_type": "code",
   "execution_count": 36,
   "id": "d3e18869",
   "metadata": {},
   "outputs": [
    {
     "data": {
      "text/plain": [
       "['https://readers.ctee.com.tw/paper?f=20240116_CM&hh=586778bc46edd852b778bcf9c6f1f0e8&h=1155&w=2028',\n",
       " 'https://readers.ctee.com.tw/paper?f=20240115_CM&hh=260594e7704b3657aca46af1b4e30c9c&h=1155&w=2028',\n",
       " 'https://readers.ctee.com.tw/paper?f=20240115_MO&hh=bb85b9172998387ff2c0d053b7cd7b67&h=1155&w=2028',\n",
       " 'https://readers.ctee.com.tw/paper?f=20240114_CM&hh=97096fc2cefb1752ca83762cfe9e1436&h=1155&w=2028',\n",
       " 'https://readers.ctee.com.tw/paper?f=20240114_MN&hh=3ecf2d23c53af4f29f4a0d19ee60b9ba&h=1155&w=2028',\n",
       " 'https://readers.ctee.com.tw/paper?f=20240113_CM&hh=ec2435e2135cedaae3eeed6e5c61e3f7&h=1155&w=2028',\n",
       " 'https://readers.ctee.com.tw/paper?f=20240113_ML&hh=49b9dddac200652e4c2d4568dbe53490&h=1155&w=2028',\n",
       " 'https://readers.ctee.com.tw/paper?f=20240112_CM&hh=1dd556618bf4530bde0f56a0de012efa&h=1155&w=2028',\n",
       " 'https://readers.ctee.com.tw/paper?f=20240111_CM&hh=8083232a338124cf917a4a4ea8b1bf77&h=1155&w=2028',\n",
       " 'https://readers.ctee.com.tw/paper?f=20240110_CM&hh=7665a545c879a7f84eeafc9b0ab98c3e&h=1155&w=2028',\n",
       " 'https://readers.ctee.com.tw/paper?f=20240109_CM&hh=8908209fd9c54136e2620d12a7264a35&h=1155&w=2028',\n",
       " 'https://readers.ctee.com.tw/paper?f=20240108_CM&hh=7b01a8c55d1638dde36009ea8db473e6&h=1155&w=2028',\n",
       " 'https://readers.ctee.com.tw/paper?f=20240108_MO&hh=8a49f33389f64a68c308530eb24c141e&h=1155&w=2028',\n",
       " 'https://readers.ctee.com.tw/paper?f=20240107_CM&hh=8d20bf845e8d2b2412b23bb7852dfa13&h=1155&w=2028',\n",
       " 'https://readers.ctee.com.tw/paper?f=20240107_MN&hh=7cf3c979e54b4ed38478484eae427c73&h=1155&w=2028',\n",
       " 'https://readers.ctee.com.tw/paper?f=20240106_CM&hh=718f1733e0cbda1519f35a3936646376&h=1155&w=2028',\n",
       " 'https://readers.ctee.com.tw/paper?f=20240106_ML&hh=1ea8585f483af9d96cdfb4b32d5d6461&h=1155&w=2028',\n",
       " 'https://readers.ctee.com.tw/paper?f=20240105_CM&hh=a442d6e34cab9b695503804bdc4b3f61&h=1155&w=2028',\n",
       " 'https://readers.ctee.com.tw/paper?f=20240104_CM&hh=982a2ce3f9a76fa63121f90949a1ca26&h=1155&w=2028',\n",
       " 'https://readers.ctee.com.tw/paper?f=20240103_CM&hh=911d21dd39c47b9fbaa7e3fa2c06f110&h=1155&w=2028',\n",
       " 'https://readers.ctee.com.tw/paper?f=20240102_CM&hh=5ba4091ecfc1e968a34a81c8d35f0fd6&h=1155&w=2028',\n",
       " 'https://readers.ctee.com.tw/paper?f=20240101_CM&hh=2f15c570d17d72e9f7b4bac1afd65276&h=1155&w=2028',\n",
       " 'https://readers.ctee.com.tw/paper?f=20240101_MO&hh=78d2681f93b7ccd1e67f96c63d0b5dae&h=1155&w=2028',\n",
       " 'https://readers.ctee.com.tw/paper?f=20231231_CM&hh=7595661f50056a910a6ede968bcc2fdd&h=1155&w=2028',\n",
       " 'https://readers.ctee.com.tw/paper?f=20231231_MN&hh=2ebaccd0e9c058637344e83991ef592d&h=1155&w=2028',\n",
       " 'https://readers.ctee.com.tw/paper?f=20231230_CM&hh=96a7037201269be20adca9416214de19&h=1155&w=2028',\n",
       " 'https://readers.ctee.com.tw/paper?f=20231230_ML&hh=dd2a29cd1c24b2dac8de8e8e35585ee7&h=1155&w=2028',\n",
       " 'https://readers.ctee.com.tw/paper?f=20231229_CM&hh=423e99f8b4e3060120579625408e4c35&h=1155&w=2028',\n",
       " 'https://readers.ctee.com.tw/paper?f=20231228_CM&hh=8700dfaa3ea37ff5cba548cfda2107c8&h=1155&w=2028',\n",
       " 'https://readers.ctee.com.tw/paper?f=20231227_CM&hh=6dc6ad3f794abb44c98b81fdb7dbf557&h=1155&w=2028',\n",
       " 'https://readers.ctee.com.tw/paper?f=20231226_CM&hh=87b2674ef5856f3c01e01ecf19009512&h=1155&w=2028',\n",
       " 'https://readers.ctee.com.tw/paper?f=20231225_CM&hh=ecc9589666df0134e547e1188bf65ab7&h=1155&w=2028',\n",
       " 'https://readers.ctee.com.tw/paper?f=20231225_MO&hh=5a5029e92e42fbbefe63f7895b75018b&h=1155&w=2028',\n",
       " 'https://readers.ctee.com.tw/paper?f=20231224_CM&hh=4fb2faff8f8cd0c7a163f8a3a8c069d8&h=1155&w=2028',\n",
       " 'https://readers.ctee.com.tw/paper?f=20231224_MN&hh=592d7410116f9359a2e50ebea9b0a1c1&h=1155&w=2028',\n",
       " 'https://readers.ctee.com.tw/paper?f=20231223_CM&hh=3925352435e8ff52d7cf00cb8ca53081&h=1155&w=2028',\n",
       " 'https://readers.ctee.com.tw/paper?f=20231223_ML&hh=0646ebf8fa86b8537b8adcbe9b4015f9&h=1155&w=2028',\n",
       " 'https://readers.ctee.com.tw/paper?f=20231222_CM&hh=b28711bf51f6ee8f1e8ed496bc4e3145&h=1155&w=2028',\n",
       " 'https://readers.ctee.com.tw/paper?f=20231221_CM&hh=2d2f38f0c6af47b7dcb240dddd3b1473&h=1155&w=2028',\n",
       " 'https://readers.ctee.com.tw/paper?f=20231220_CM&hh=beef7a8cfaab64530270f7255f7fad76&h=1155&w=2028',\n",
       " 'https://readers.ctee.com.tw/paper?f=20231219_CM&hh=653bca4c3134d079b73eb79258c0365e&h=1155&w=2028',\n",
       " 'https://readers.ctee.com.tw/paper?f=20231218_CM&hh=d95b10954a9d288521e88622c75824d1&h=1155&w=2028',\n",
       " 'https://readers.ctee.com.tw/paper?f=20231218_MO&hh=692ab7cffaecf06433c9620cf9bebfee&h=1155&w=2028',\n",
       " 'https://readers.ctee.com.tw/paper?f=20231217_CM&hh=a61ac586ed590d27fe4748656e0427a6&h=1155&w=2028',\n",
       " 'https://readers.ctee.com.tw/paper?f=20231217_MN&hh=766ea2f32afe6a599cf121a12b3fb18c&h=1155&w=2028']"
      ]
     },
     "execution_count": 36,
     "metadata": {},
     "output_type": "execute_result"
    }
   ],
   "source": [
    "res"
   ]
  },
  {
   "cell_type": "code",
   "execution_count": 70,
   "id": "b35d2d59",
   "metadata": {},
   "outputs": [
    {
     "name": "stdout",
     "output_type": "stream",
     "text": [
      "https://readers.ctee.com.tw/paper?f=20240122_CM&hh=b2017d5d67ca96ba5868cbe9366ec8e4&h=1112&w=2028\n",
      "https://readers.ctee.com.tw/paper?f=20240122_MO&hh=e30832272100464747c3f73ec53797bb&h=1112&w=2028\n",
      "https://readers.ctee.com.tw/paper?f=20240121_CM&hh=ae502df08037630416e5570ed55259a8&h=1112&w=2028\n",
      "https://readers.ctee.com.tw/paper?f=20240121_MN&hh=580dd3fe1a6baa55ad0ab1715126d944&h=1112&w=2028\n",
      "https://readers.ctee.com.tw/paper?f=20240120_CM&hh=d3861e63199e22dc2f115a3583afb2ef&h=1112&w=2028\n",
      "https://readers.ctee.com.tw/paper?f=20240120_ML&hh=1609bc25716694bfa7fbf4845ad3c201&h=1112&w=2028\n",
      "https://readers.ctee.com.tw/paper?f=20240119_CM&hh=ad22205abd879e576824062af66d7d40&h=1112&w=2028\n"
     ]
    }
   ],
   "source": [
    "for x in res[0:7]:\n",
    "    print(x)\n",
    "    download_files(driver, x)\n",
    "    time.sleep(5)"
   ]
  },
  {
   "cell_type": "code",
   "execution_count": 58,
   "id": "19b1e45b",
   "metadata": {},
   "outputs": [],
   "source": [
    "url = \"https://readers.ctee.com.tw/paper?f=20240118_CM&hh=a17ce5ea741720e8076ba82fda2e7bac&h=1155&w=2028\"\n",
    "download_files(driver, url)"
   ]
  },
  {
   "cell_type": "code",
   "execution_count": null,
   "id": "3d433692",
   "metadata": {},
   "outputs": [],
   "source": []
  }
 ],
 "metadata": {
  "kernelspec": {
   "display_name": "Python 3 (ipykernel)",
   "language": "python",
   "name": "python3"
  },
  "language_info": {
   "codemirror_mode": {
    "name": "ipython",
    "version": 3
   },
   "file_extension": ".py",
   "mimetype": "text/x-python",
   "name": "python",
   "nbconvert_exporter": "python",
   "pygments_lexer": "ipython3",
   "version": "3.8.17"
  }
 },
 "nbformat": 4,
 "nbformat_minor": 5
}
