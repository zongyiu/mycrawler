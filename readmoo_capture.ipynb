{
 "cells": [
  {
   "cell_type": "code",
   "execution_count": 20,
   "id": "54d1cd77",
   "metadata": {},
   "outputs": [],
   "source": [
    "from PIL import Image\n",
    "from reportlab.pdfgen import canvas\n",
    "import os\n",
    "import sys\n",
    "import time\n",
    "import argparse\n",
    "import pandas as pd\n",
    "import numpy as np\n",
    "import requests\n",
    "from urllib.parse import quote\n",
    "from urllib.parse import unquote\n",
    "from selenium.webdriver.common.keys import Keys \n",
    "from selenium import webdriver\n",
    "from selenium.webdriver.common.by import By\n",
    "from selenium.webdriver.support.ui import Select\n",
    "from selenium.webdriver.support.ui import WebDriverWait\n",
    "from selenium.common.exceptions import NoSuchElementException\n",
    "from selenium.webdriver.common.action_chains import ActionChains"
   ]
  },
  {
   "cell_type": "code",
   "execution_count": 2,
   "id": "b306da96",
   "metadata": {},
   "outputs": [],
   "source": [
    "options = webdriver.ChromeOptions()\n",
    "#options.add_argument('headless')\n",
    "driver = webdriver.Chrome(options=options)"
   ]
  },
  {
   "cell_type": "code",
   "execution_count": 3,
   "id": "914acd1f",
   "metadata": {},
   "outputs": [],
   "source": [
    "# Login Readmoo \n",
    "_url = 'https://member.readmoo.com/login'\n",
    "driver.get(_url)\n",
    "driver.maximize_window()\n",
    "# Input account/password"
   ]
  },
  {
   "cell_type": "code",
   "execution_count": 4,
   "id": "778b0910",
   "metadata": {},
   "outputs": [],
   "source": [
    "url = 'https://new-read.readmoo.com/mooreader/210278958000101'\n",
    "driver.get(url)"
   ]
  },
  {
   "cell_type": "code",
   "execution_count": 8,
   "id": "c5858207-5c12-45bc-acde-33c5fc06bf51",
   "metadata": {},
   "outputs": [],
   "source": [
    "_iframe = driver.find_element(By.TAG_NAME, 'iframe')\n",
    "driver.switch_to.frame(_iframe)"
   ]
  },
  {
   "cell_type": "code",
   "execution_count": 17,
   "id": "879ddcd5-d28a-419d-8b76-f4e34a142d1c",
   "metadata": {},
   "outputs": [
    {
     "ename": "ElementClickInterceptedException",
     "evalue": "Message: element click intercepted: Element <div class=\"small right-page-btn mo mo-arrow-right\"></div> is not clickable at point (1065, 897). Other element would receive the click: <div role=\"dialog\" aria-modal=\"true\" class=\"fade modal show\" tabindex=\"-1\" style=\"display: block;\">...</div>\n  (Session info: chrome=120.0.6099.225)\nStacktrace:\n\tGetHandleVerifier [0x00007FF69B862142+3514994]\n\t(No symbol) [0x00007FF69B480CE2]\n\t(No symbol) [0x00007FF69B3276AA]\n\t(No symbol) [0x00007FF69B3788F3]\n\t(No symbol) [0x00007FF69B3768ED]\n\t(No symbol) [0x00007FF69B3740EC]\n\t(No symbol) [0x00007FF69B372EA5]\n\t(No symbol) [0x00007FF69B366A0F]\n\t(No symbol) [0x00007FF69B395FEA]\n\t(No symbol) [0x00007FF69B3663B6]\n\t(No symbol) [0x00007FF69B396490]\n\t(No symbol) [0x00007FF69B3B28F6]\n\t(No symbol) [0x00007FF69B395D93]\n\t(No symbol) [0x00007FF69B364BDC]\n\t(No symbol) [0x00007FF69B365C64]\n\tGetHandleVerifier [0x00007FF69B88E16B+3695259]\n\tGetHandleVerifier [0x00007FF69B8E6737+4057191]\n\tGetHandleVerifier [0x00007FF69B8DE4E3+4023827]\n\tGetHandleVerifier [0x00007FF69B5B04F9+689705]\n\t(No symbol) [0x00007FF69B48C048]\n\t(No symbol) [0x00007FF69B488044]\n\t(No symbol) [0x00007FF69B4881C9]\n\t(No symbol) [0x00007FF69B4788C4]\n\tBaseThreadInitThunk [0x00007FF93D81257D+29]\n\tRtlUserThreadStart [0x00007FF93F1CAA58+40]\n",
     "output_type": "error",
     "traceback": [
      "\u001b[1;31m---------------------------------------------------------------------------\u001b[0m",
      "\u001b[1;31mElementClickInterceptedException\u001b[0m          Traceback (most recent call last)",
      "Cell \u001b[1;32mIn[17], line 16\u001b[0m\n\u001b[0;32m     13\u001b[0m driver\u001b[38;5;241m.\u001b[39msave_screenshot(path)\n\u001b[0;32m     15\u001b[0m rightbutton \u001b[38;5;241m=\u001b[39m driver\u001b[38;5;241m.\u001b[39mfind_element(By\u001b[38;5;241m.\u001b[39mXPATH, \u001b[38;5;124m\"\u001b[39m\u001b[38;5;124m/html/body/div[2]/div/div[5]/div[1]/div[2]/div\u001b[39m\u001b[38;5;124m\"\u001b[39m)\n\u001b[1;32m---> 16\u001b[0m \u001b[43mrightbutton\u001b[49m\u001b[38;5;241;43m.\u001b[39;49m\u001b[43mclick\u001b[49m\u001b[43m(\u001b[49m\u001b[43m)\u001b[49m\n\u001b[0;32m     17\u001b[0m time\u001b[38;5;241m.\u001b[39msleep(\u001b[38;5;241m2\u001b[39m)\n",
      "File \u001b[1;32m~\\anaconda3\\envs\\crawler\\lib\\site-packages\\selenium\\webdriver\\remote\\webelement.py:94\u001b[0m, in \u001b[0;36mWebElement.click\u001b[1;34m(self)\u001b[0m\n\u001b[0;32m     92\u001b[0m \u001b[38;5;28;01mdef\u001b[39;00m \u001b[38;5;21mclick\u001b[39m(\u001b[38;5;28mself\u001b[39m) \u001b[38;5;241m-\u001b[39m\u001b[38;5;241m>\u001b[39m \u001b[38;5;28;01mNone\u001b[39;00m:\n\u001b[0;32m     93\u001b[0m \u001b[38;5;250m    \u001b[39m\u001b[38;5;124;03m\"\"\"Clicks the element.\"\"\"\u001b[39;00m\n\u001b[1;32m---> 94\u001b[0m     \u001b[38;5;28;43mself\u001b[39;49m\u001b[38;5;241;43m.\u001b[39;49m\u001b[43m_execute\u001b[49m\u001b[43m(\u001b[49m\u001b[43mCommand\u001b[49m\u001b[38;5;241;43m.\u001b[39;49m\u001b[43mCLICK_ELEMENT\u001b[49m\u001b[43m)\u001b[49m\n",
      "File \u001b[1;32m~\\anaconda3\\envs\\crawler\\lib\\site-packages\\selenium\\webdriver\\remote\\webelement.py:395\u001b[0m, in \u001b[0;36mWebElement._execute\u001b[1;34m(self, command, params)\u001b[0m\n\u001b[0;32m    393\u001b[0m     params \u001b[38;5;241m=\u001b[39m {}\n\u001b[0;32m    394\u001b[0m params[\u001b[38;5;124m\"\u001b[39m\u001b[38;5;124mid\u001b[39m\u001b[38;5;124m\"\u001b[39m] \u001b[38;5;241m=\u001b[39m \u001b[38;5;28mself\u001b[39m\u001b[38;5;241m.\u001b[39m_id\n\u001b[1;32m--> 395\u001b[0m \u001b[38;5;28;01mreturn\u001b[39;00m \u001b[38;5;28;43mself\u001b[39;49m\u001b[38;5;241;43m.\u001b[39;49m\u001b[43m_parent\u001b[49m\u001b[38;5;241;43m.\u001b[39;49m\u001b[43mexecute\u001b[49m\u001b[43m(\u001b[49m\u001b[43mcommand\u001b[49m\u001b[43m,\u001b[49m\u001b[43m \u001b[49m\u001b[43mparams\u001b[49m\u001b[43m)\u001b[49m\n",
      "File \u001b[1;32m~\\anaconda3\\envs\\crawler\\lib\\site-packages\\selenium\\webdriver\\remote\\webdriver.py:345\u001b[0m, in \u001b[0;36mWebDriver.execute\u001b[1;34m(self, driver_command, params)\u001b[0m\n\u001b[0;32m    343\u001b[0m response \u001b[38;5;241m=\u001b[39m \u001b[38;5;28mself\u001b[39m\u001b[38;5;241m.\u001b[39mcommand_executor\u001b[38;5;241m.\u001b[39mexecute(driver_command, params)\n\u001b[0;32m    344\u001b[0m \u001b[38;5;28;01mif\u001b[39;00m response:\n\u001b[1;32m--> 345\u001b[0m     \u001b[38;5;28;43mself\u001b[39;49m\u001b[38;5;241;43m.\u001b[39;49m\u001b[43merror_handler\u001b[49m\u001b[38;5;241;43m.\u001b[39;49m\u001b[43mcheck_response\u001b[49m\u001b[43m(\u001b[49m\u001b[43mresponse\u001b[49m\u001b[43m)\u001b[49m\n\u001b[0;32m    346\u001b[0m     response[\u001b[38;5;124m\"\u001b[39m\u001b[38;5;124mvalue\u001b[39m\u001b[38;5;124m\"\u001b[39m] \u001b[38;5;241m=\u001b[39m \u001b[38;5;28mself\u001b[39m\u001b[38;5;241m.\u001b[39m_unwrap_value(response\u001b[38;5;241m.\u001b[39mget(\u001b[38;5;124m\"\u001b[39m\u001b[38;5;124mvalue\u001b[39m\u001b[38;5;124m\"\u001b[39m, \u001b[38;5;28;01mNone\u001b[39;00m))\n\u001b[0;32m    347\u001b[0m     \u001b[38;5;28;01mreturn\u001b[39;00m response\n",
      "File \u001b[1;32m~\\anaconda3\\envs\\crawler\\lib\\site-packages\\selenium\\webdriver\\remote\\errorhandler.py:229\u001b[0m, in \u001b[0;36mErrorHandler.check_response\u001b[1;34m(self, response)\u001b[0m\n\u001b[0;32m    227\u001b[0m         alert_text \u001b[38;5;241m=\u001b[39m value[\u001b[38;5;124m\"\u001b[39m\u001b[38;5;124malert\u001b[39m\u001b[38;5;124m\"\u001b[39m]\u001b[38;5;241m.\u001b[39mget(\u001b[38;5;124m\"\u001b[39m\u001b[38;5;124mtext\u001b[39m\u001b[38;5;124m\"\u001b[39m)\n\u001b[0;32m    228\u001b[0m     \u001b[38;5;28;01mraise\u001b[39;00m exception_class(message, screen, stacktrace, alert_text)  \u001b[38;5;66;03m# type: ignore[call-arg]  # mypy is not smart enough here\u001b[39;00m\n\u001b[1;32m--> 229\u001b[0m \u001b[38;5;28;01mraise\u001b[39;00m exception_class(message, screen, stacktrace)\n",
      "\u001b[1;31mElementClickInterceptedException\u001b[0m: Message: element click intercepted: Element <div class=\"small right-page-btn mo mo-arrow-right\"></div> is not clickable at point (1065, 897). Other element would receive the click: <div role=\"dialog\" aria-modal=\"true\" class=\"fade modal show\" tabindex=\"-1\" style=\"display: block;\">...</div>\n  (Session info: chrome=120.0.6099.225)\nStacktrace:\n\tGetHandleVerifier [0x00007FF69B862142+3514994]\n\t(No symbol) [0x00007FF69B480CE2]\n\t(No symbol) [0x00007FF69B3276AA]\n\t(No symbol) [0x00007FF69B3788F3]\n\t(No symbol) [0x00007FF69B3768ED]\n\t(No symbol) [0x00007FF69B3740EC]\n\t(No symbol) [0x00007FF69B372EA5]\n\t(No symbol) [0x00007FF69B366A0F]\n\t(No symbol) [0x00007FF69B395FEA]\n\t(No symbol) [0x00007FF69B3663B6]\n\t(No symbol) [0x00007FF69B396490]\n\t(No symbol) [0x00007FF69B3B28F6]\n\t(No symbol) [0x00007FF69B395D93]\n\t(No symbol) [0x00007FF69B364BDC]\n\t(No symbol) [0x00007FF69B365C64]\n\tGetHandleVerifier [0x00007FF69B88E16B+3695259]\n\tGetHandleVerifier [0x00007FF69B8E6737+4057191]\n\tGetHandleVerifier [0x00007FF69B8DE4E3+4023827]\n\tGetHandleVerifier [0x00007FF69B5B04F9+689705]\n\t(No symbol) [0x00007FF69B48C048]\n\t(No symbol) [0x00007FF69B488044]\n\t(No symbol) [0x00007FF69B4881C9]\n\t(No symbol) [0x00007FF69B4788C4]\n\tBaseThreadInitThunk [0x00007FF93D81257D+29]\n\tRtlUserThreadStart [0x00007FF93F1CAA58+40]\n"
     ]
    }
   ],
   "source": [
    "page = 200\n",
    "# Get Pages\n",
    "for i in range(1, page):\n",
    "    if i < 10: \n",
    "        x = '00' + str(i)\n",
    "    elif i > 9 and i < 100:\n",
    "        x = '0' + str(i)\n",
    "    else: \n",
    "        x = str(i)\n",
    "\n",
    "    path = \"./ebook/學會走圖SOP\" + x + \".png\"\n",
    "\n",
    "    driver.save_screenshot(path)\n",
    "\n",
    "    rightbutton = driver.find_element(By.XPATH, \"/html/body/div[2]/div/div[5]/div[1]/div[2]/div\")\n",
    "    rightbutton.click()\n",
    "    time.sleep(2)"
   ]
  },
  {
   "cell_type": "code",
   "execution_count": 21,
   "id": "b2c48c40-e325-4df7-a5f3-f38742207863",
   "metadata": {},
   "outputs": [],
   "source": [
    "png_folder = \"./ebook/\"\n",
    "png_files = [f for f in os.listdir(png_folder) if f.endswith('.png')]"
   ]
  },
  {
   "cell_type": "code",
   "execution_count": 23,
   "id": "a43c95c5-47fd-454a-8549-935cd469ca23",
   "metadata": {},
   "outputs": [],
   "source": [
    "output_pdf = \"./1.pdf\"\n",
    "c = canvas.Canvas(output_pdf)\n",
    "\n",
    "for png_file in png_files:\n",
    "    file_path = os.path.join(png_folder, png_file)\n",
    "    img = Image.open(file_path)\n",
    "    # 確保圖片是RGB模式\n",
    "    if img.mode != 'RGB':\n",
    "        img = img.convert('RGB')\n",
    "\n",
    "    # 將圖片添加到PDF\n",
    "    c.setPageSize((img.width, img.height))\n",
    "    c.drawInlineImage(file_path, 0, 0, img.width, img.height)\n",
    "    c.showPage()\n",
    "\n",
    "c.save()"
   ]
  },
  {
   "cell_type": "code",
   "execution_count": 7,
   "id": "7634f52f-8651-4fc3-bb35-37f765919009",
   "metadata": {},
   "outputs": [
    {
     "data": {
      "text/plain": [
       "True"
      ]
     },
     "execution_count": 7,
     "metadata": {},
     "output_type": "execute_result"
    }
   ],
   "source": [
    "driver.save_screenshot(\"1.png\")"
   ]
  },
  {
   "cell_type": "code",
   "execution_count": 93,
   "id": "a9e6b2fe",
   "metadata": {},
   "outputs": [],
   "source": [
    "#url = \"https://new-read.readmoo.com/mooreader/210304821000101\"\n",
    "#driver.get(url)\n",
    "#time.sleep(5)\n",
    "_iframe = driver.find_element(By.TAG_NAME, 'iframe')\n",
    "driver.switch_to.frame(_iframe)\n",
    "pages = driver.find_element(By.XPATH, \"/html/body/div[2]/div/nav/div[2]/div/div/div[3]/div[2]/span[2]\")\n",
    "page = int(pages.get_attribute(\"innerHTML\").split('/')[1].split(' ')[2])\n",
    "next_frame = driver.find_element(By.XPATH, \"/html/body/div[1]/div/div/div/div/div/div/iframe\")\n",
    "_url = next_frame.get_attribute(\"data-src\")\n",
    "\n",
    "url_head = _url.split('xhtml')[0]"
   ]
  },
  {
   "cell_type": "code",
   "execution_count": 89,
   "id": "04e7151c",
   "metadata": {},
   "outputs": [],
   "source": [
    "# Get Cover \n",
    "cover = url_head + 'image/cover.jpg'\n",
    "download_comic(driver, cover, \"000\")"
   ]
  },
  {
   "cell_type": "code",
   "execution_count": 90,
   "id": "6950ce6b",
   "metadata": {},
   "outputs": [],
   "source": [
    "# Get Pages\n",
    "for i in range(1, page):\n",
    "    if i < 10: \n",
    "        x = '00' + str(i)\n",
    "    elif i > 9 and i < 100:\n",
    "        x = '0' + str(i)\n",
    "    else: \n",
    "        x = str(i)\n",
    "    id = url_head + 'image/i-' + x + '.jpg'\n",
    "    download_comic(driver, id, x)\n",
    "    time.sleep(2)"
   ]
  },
  {
   "cell_type": "code",
   "execution_count": 91,
   "id": "2db6e89f",
   "metadata": {},
   "outputs": [],
   "source": [
    "directory = \"./comic\"\n",
    "new_folder = './金田一少年之事件簿30th_01' \n",
    "os.rename(directory, new_folder)\n",
    "os.mkdir(directory)\n",
    "files = os.listdir(new_folder)"
   ]
  },
  {
   "cell_type": "code",
   "execution_count": 74,
   "id": "29b941f9",
   "metadata": {},
   "outputs": [],
   "source": []
  },
  {
   "cell_type": "code",
   "execution_count": 41,
   "id": "fcda7551",
   "metadata": {},
   "outputs": [],
   "source": []
  }
 ],
 "metadata": {
  "kernelspec": {
   "display_name": "Python 3 (ipykernel)",
   "language": "python",
   "name": "python3"
  },
  "language_info": {
   "codemirror_mode": {
    "name": "ipython",
    "version": 3
   },
   "file_extension": ".py",
   "mimetype": "text/x-python",
   "name": "python",
   "nbconvert_exporter": "python",
   "pygments_lexer": "ipython3",
   "version": "3.8.17"
  }
 },
 "nbformat": 4,
 "nbformat_minor": 5
}
