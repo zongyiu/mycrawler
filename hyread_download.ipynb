{
 "cells": [
  {
   "cell_type": "code",
   "execution_count": 1,
   "id": "54d1cd77",
   "metadata": {},
   "outputs": [],
   "source": [
    "import os\n",
    "import sys\n",
    "import time\n",
    "import argparse\n",
    "import pandas as pd\n",
    "import numpy as np\n",
    "import requests\n",
    "from urllib.parse import quote\n",
    "from urllib.parse import unquote\n",
    "from selenium.webdriver.common.keys import Keys \n",
    "from selenium import webdriver\n",
    "from selenium.webdriver.common.by import By\n",
    "from selenium.webdriver.support.ui import Select\n",
    "from selenium.webdriver.support.ui import WebDriverWait\n",
    "from selenium.common.exceptions import NoSuchElementException\n",
    "from selenium.webdriver.common.action_chains import ActionChains\n",
    "from selenium.webdriver.common.keys import Keys"
   ]
  },
  {
   "cell_type": "code",
   "execution_count": 2,
   "id": "b306da96",
   "metadata": {},
   "outputs": [],
   "source": [
    "options = webdriver.ChromeOptions()\n",
    "#options.add_argument('headless')\n",
    "driver = webdriver.Chrome(options=options)"
   ]
  },
  {
   "cell_type": "code",
   "execution_count": 3,
   "id": "914acd1f",
   "metadata": {},
   "outputs": [],
   "source": [
    "# Login Hami\n",
    "_url = 'https://ebook.hyread.com.tw/'\n",
    "driver.get(_url)\n",
    "driver.maximize_window()\n",
    "# Input account/password"
   ]
  },
  {
   "cell_type": "code",
   "execution_count": 4,
   "id": "778b0910",
   "metadata": {},
   "outputs": [],
   "source": [
    "#url = 'https://webreader.hamibook.com.tw/viewer/06/%e5%85%88%e6%8e%a2%e6%8a%95%e8%b3%87%e9%80%b1%e5%88%8a%202281%e6%9c%9f#/index?book_id=0100365765&format=06'\n",
    "url = 'https://ebook.hyread.com.tw/Template/store/member/onlineReading.jsp?eid=363080&asstuuid=8a8a84ca8cf2e188018cf719ccf17305'\n",
    "driver.get(url)"
   ]
  },
  {
   "cell_type": "code",
   "execution_count": 44,
   "id": "6f00f1a0",
   "metadata": {},
   "outputs": [
    {
     "data": {
      "text/plain": [
       "True"
      ]
     },
     "execution_count": 44,
     "metadata": {},
     "output_type": "execute_result"
    }
   ],
   "source": [
    "driver.save_screenshot('./X0.png')"
   ]
  },
  {
   "cell_type": "code",
   "execution_count": 45,
   "id": "7421ac26",
   "metadata": {},
   "outputs": [],
   "source": [
    "actions = ActionChains(driver)\n",
    "for i in range(30):\n",
    "\n",
    "    # 模擬按下右鍵\n",
    "    actions.send_keys(Keys.RIGHT).perform()\n",
    "    time.sleep(3)\n",
    "    #img = driver.find_element(By.XPATH, \"/html/body/div[1]/div/div[2]/div[4]/div[2]/div/div/div/div/img[2]\")\n",
    "    out = './x' + str(i) + '.png'\n",
    "    driver.save_screenshot(out)\n",
    "    #img.screenshot(out)"
   ]
  },
  {
   "cell_type": "code",
   "execution_count": 33,
   "id": "7e8f8078",
   "metadata": {},
   "outputs": [
    {
     "data": {
      "text/plain": [
       "True"
      ]
     },
     "execution_count": 33,
     "metadata": {},
     "output_type": "execute_result"
    }
   ],
   "source": [
    "actions.send_keys(Keys.LEFT).perform()\n",
    "time.sleep(3)\n",
    "driver.save_screenshot('./X03.png')"
   ]
  },
  {
   "cell_type": "code",
   "execution_count": 41,
   "id": "ff12fcd5",
   "metadata": {},
   "outputs": [],
   "source": [
    "actions.send_keys(Keys.LEFT).perform()"
   ]
  },
  {
   "cell_type": "code",
   "execution_count": 26,
   "id": "5c93df13",
   "metadata": {},
   "outputs": [
    {
     "data": {
      "text/plain": [
       "True"
      ]
     },
     "execution_count": 26,
     "metadata": {},
     "output_type": "execute_result"
    }
   ],
   "source": [
    "driver.save_screenshot('./X02.png')"
   ]
  },
  {
   "cell_type": "code",
   "execution_count": 39,
   "id": "4510bff6",
   "metadata": {},
   "outputs": [
    {
     "data": {
      "text/plain": [
       "True"
      ]
     },
     "execution_count": 39,
     "metadata": {},
     "output_type": "execute_result"
    }
   ],
   "source": [
    "canvas.screenshot('./main3.png')"
   ]
  },
  {
   "cell_type": "code",
   "execution_count": null,
   "id": "f45896a7",
   "metadata": {},
   "outputs": [],
   "source": []
  },
  {
   "cell_type": "code",
   "execution_count": null,
   "id": "301a1f85",
   "metadata": {},
   "outputs": [],
   "source": []
  },
  {
   "cell_type": "code",
   "execution_count": 107,
   "id": "a9e6b2fe",
   "metadata": {},
   "outputs": [],
   "source": [
    "# url = 'https://read.readmoo.com/#/unlimiteds/15/favor_items'\n",
    "url = \"https://new-read.readmoo.com/mooreader/220302094000101?event=15\"\n",
    "driver.get(url)"
   ]
  },
  {
   "cell_type": "code",
   "execution_count": 108,
   "id": "12b96401",
   "metadata": {},
   "outputs": [],
   "source": [
    "_iframe = driver.find_element(By.TAG_NAME, 'iframe')\n",
    "driver.switch_to.frame(_iframe)\n",
    "pages = driver.find_element(By.XPATH, \"/html/body/div[2]/div/nav/div[2]/div/div/div[3]/div[2]/span[2]\")\n",
    "page = int(pages.get_attribute(\"innerHTML\").split('/')[1].split(' ')[2])\n",
    "next_frame = driver.find_element(By.XPATH, \"/html/body/div[1]/div/div/div/div/div/div/iframe\")\n",
    "url = next_frame.get_attribute(\"data-src\")"
   ]
  },
  {
   "cell_type": "code",
   "execution_count": 109,
   "id": "fd203631",
   "metadata": {},
   "outputs": [],
   "source": [
    "driver.get(url)"
   ]
  },
  {
   "cell_type": "code",
   "execution_count": 110,
   "id": "bdb62812",
   "metadata": {},
   "outputs": [],
   "source": [
    "url_head = url.split('1.xhtml')[0]"
   ]
  },
  {
   "cell_type": "code",
   "execution_count": 111,
   "id": "85e34d5a",
   "metadata": {},
   "outputs": [],
   "source": [
    "for i in range(2,page+1):\n",
    "    r = str(i)\n",
    "    _url = url_head + r + '.xhtml'\n",
    "    #print(_url)\n",
    "    js = \"window.open('\" + _url + \"')\"\n",
    "    driver.execute_script(js)"
   ]
  },
  {
   "cell_type": "code",
   "execution_count": 77,
   "id": "a4a35469",
   "metadata": {},
   "outputs": [
    {
     "data": {
      "text/plain": [
       "True"
      ]
     },
     "execution_count": 77,
     "metadata": {},
     "output_type": "execute_result"
    }
   ],
   "source": [
    "#driver.save_screenshot('./test2.png')"
   ]
  },
  {
   "cell_type": "code",
   "execution_count": 112,
   "id": "f94e2523",
   "metadata": {},
   "outputs": [],
   "source": [
    "date = '20231119'\n",
    "directory = \"./files\"\n",
    "new_folder = './經濟日報' + date\n",
    "os.rename(directory, new_folder)\n",
    "os.mkdir(directory)\n",
    "files = os.listdir(new_folder)\n",
    "for i, filename in enumerate(files):\n",
    "    \n",
    "    new_filename = f\"經濟日報{date}_{i + 1}.png\"  \n",
    "\n",
    "    old_file = os.path.join(new_folder, filename)\n",
    "    new_file = os.path.join(new_folder, new_filename)\n",
    "    \n",
    "    os.rename(old_file, new_file)"
   ]
  },
  {
   "cell_type": "code",
   "execution_count": 79,
   "id": "1980531a",
   "metadata": {},
   "outputs": [],
   "source": []
  },
  {
   "cell_type": "code",
   "execution_count": 80,
   "id": "1442847c",
   "metadata": {},
   "outputs": [],
   "source": []
  },
  {
   "cell_type": "code",
   "execution_count": 81,
   "id": "29c2b47d",
   "metadata": {},
   "outputs": [],
   "source": []
  },
  {
   "cell_type": "code",
   "execution_count": null,
   "id": "0dca4947",
   "metadata": {},
   "outputs": [],
   "source": []
  },
  {
   "cell_type": "code",
   "execution_count": null,
   "id": "6454ac25",
   "metadata": {},
   "outputs": [],
   "source": []
  }
 ],
 "metadata": {
  "kernelspec": {
   "display_name": "Python 3 (ipykernel)",
   "language": "python",
   "name": "python3"
  },
  "language_info": {
   "codemirror_mode": {
    "name": "ipython",
    "version": 3
   },
   "file_extension": ".py",
   "mimetype": "text/x-python",
   "name": "python",
   "nbconvert_exporter": "python",
   "pygments_lexer": "ipython3",
   "version": "3.8.17"
  }
 },
 "nbformat": 4,
 "nbformat_minor": 5
}
