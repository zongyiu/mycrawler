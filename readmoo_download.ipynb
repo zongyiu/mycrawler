{
 "cells": [
  {
   "cell_type": "code",
   "execution_count": 1,
   "id": "54d1cd77",
   "metadata": {},
   "outputs": [],
   "source": [
    "import os\n",
    "import sys\n",
    "import time\n",
    "import argparse\n",
    "import pandas as pd\n",
    "import numpy as np\n",
    "import requests\n",
    "from urllib.parse import quote\n",
    "from urllib.parse import unquote\n",
    "from selenium.webdriver.common.keys import Keys \n",
    "from selenium import webdriver\n",
    "from selenium.webdriver.common.by import By\n",
    "from selenium.webdriver.support.ui import Select\n",
    "from selenium.webdriver.support.ui import WebDriverWait\n",
    "from selenium.common.exceptions import NoSuchElementException\n",
    "from selenium.webdriver.common.action_chains import ActionChains"
   ]
  },
  {
   "cell_type": "code",
   "execution_count": 48,
   "id": "a1ac8ed1",
   "metadata": {},
   "outputs": [],
   "source": [
    "def download_comic(driver, url, title):\n",
    "    driver.get(url)\n",
    "    cookies = driver.get_cookies()\n",
    "    s = requests.Session()\n",
    "    for cookie in cookies:\n",
    "        s.cookies.set(cookie['name'], cookie['value'])\n",
    "\n",
    "    response = s.get(url)\n",
    "    if response.status_code == 200:\n",
    "        filename = f'./comic/' + title + '.jpg'\n",
    "        with open(filename, 'wb') as file:\n",
    "            file.write(response.content)\n",
    "    else:\n",
    "        print(\"Failed to download image\")"
   ]
  },
  {
   "cell_type": "code",
   "execution_count": 2,
   "id": "b306da96",
   "metadata": {},
   "outputs": [],
   "source": [
    "options = webdriver.ChromeOptions()\n",
    "#options.add_argument('headless')\n",
    "driver = webdriver.Chrome(options=options)"
   ]
  },
  {
   "cell_type": "code",
   "execution_count": 3,
   "id": "914acd1f",
   "metadata": {},
   "outputs": [],
   "source": [
    "# Login Readmoo \n",
    "_url = 'https://member.readmoo.com/login'\n",
    "driver.get(_url)\n",
    "driver.maximize_window()\n",
    "# Input account/password"
   ]
  },
  {
   "cell_type": "code",
   "execution_count": 92,
   "id": "778b0910",
   "metadata": {},
   "outputs": [],
   "source": [
    "url = 'https://new-read.readmoo.com/mooreader/210264192000101'\n",
    "driver.get(url)"
   ]
  },
  {
   "cell_type": "code",
   "execution_count": 93,
   "id": "a9e6b2fe",
   "metadata": {},
   "outputs": [],
   "source": [
    "#url = \"https://new-read.readmoo.com/mooreader/210304821000101\"\n",
    "#driver.get(url)\n",
    "#time.sleep(5)\n",
    "_iframe = driver.find_element(By.TAG_NAME, 'iframe')\n",
    "driver.switch_to.frame(_iframe)\n",
    "pages = driver.find_element(By.XPATH, \"/html/body/div[2]/div/nav/div[2]/div/div/div[3]/div[2]/span[2]\")\n",
    "page = int(pages.get_attribute(\"innerHTML\").split('/')[1].split(' ')[2])\n",
    "next_frame = driver.find_element(By.XPATH, \"/html/body/div[1]/div/div/div/div/div/div/iframe\")\n",
    "_url = next_frame.get_attribute(\"data-src\")\n",
    "\n",
    "url_head = _url.split('xhtml')[0]"
   ]
  },
  {
   "cell_type": "code",
   "execution_count": 89,
   "id": "04e7151c",
   "metadata": {},
   "outputs": [],
   "source": [
    "# Get Cover \n",
    "cover = url_head + 'image/cover.jpg'\n",
    "download_comic(driver, cover, \"000\")"
   ]
  },
  {
   "cell_type": "code",
   "execution_count": 90,
   "id": "6950ce6b",
   "metadata": {},
   "outputs": [],
   "source": [
    "# Get Pages\n",
    "for i in range(1, page):\n",
    "    if i < 10: \n",
    "        x = '00' + str(i)\n",
    "    elif i > 9 and i < 100:\n",
    "        x = '0' + str(i)\n",
    "    else: \n",
    "        x = str(i)\n",
    "    id = url_head + 'image/i-' + x + '.jpg'\n",
    "    download_comic(driver, id, x)\n",
    "    time.sleep(2)"
   ]
  },
  {
   "cell_type": "code",
   "execution_count": 91,
   "id": "2db6e89f",
   "metadata": {},
   "outputs": [],
   "source": [
    "directory = \"./comic\"\n",
    "new_folder = './金田一少年之事件簿30th_01' \n",
    "os.rename(directory, new_folder)\n",
    "os.mkdir(directory)\n",
    "files = os.listdir(new_folder)"
   ]
  },
  {
   "cell_type": "code",
   "execution_count": 74,
   "id": "29b941f9",
   "metadata": {},
   "outputs": [],
   "source": []
  },
  {
   "cell_type": "code",
   "execution_count": 41,
   "id": "fcda7551",
   "metadata": {},
   "outputs": [],
   "source": []
  }
 ],
 "metadata": {
  "kernelspec": {
   "display_name": "Python 3 (ipykernel)",
   "language": "python",
   "name": "python3"
  },
  "language_info": {
   "codemirror_mode": {
    "name": "ipython",
    "version": 3
   },
   "file_extension": ".py",
   "mimetype": "text/x-python",
   "name": "python",
   "nbconvert_exporter": "python",
   "pygments_lexer": "ipython3",
   "version": "3.8.17"
  }
 },
 "nbformat": 4,
 "nbformat_minor": 5
}
